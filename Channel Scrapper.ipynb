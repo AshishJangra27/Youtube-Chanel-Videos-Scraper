{
 "cells": [
  {
   "cell_type": "code",
   "execution_count": 1,
   "id": "4948d89a",
   "metadata": {},
   "outputs": [],
   "source": [
    "import requests\n",
    "import numpy as np\n",
    "import pandas as pd\n",
    "from bs4 import BeautifulSoup\n",
    "from selenium import webdriver\n",
    "\n",
    "driver = webdriver.Chrome()\n",
    "\n",
    "driver.get('https://www.youtube.com/c/NetflixIndiaOfficial/videos')"
   ]
  },
  {
   "cell_type": "code",
   "execution_count": 2,
   "id": "fde54a78",
   "metadata": {},
   "outputs": [],
   "source": [
    "soup = BeautifulSoup(driver.page_source, 'html.parser')"
   ]
  },
  {
   "cell_type": "code",
   "execution_count": 3,
   "id": "e37123ab",
   "metadata": {},
   "outputs": [],
   "source": [
    "videos = soup.find_all('ytd-grid-video-renderer')"
   ]
  },
  {
   "cell_type": "code",
   "execution_count": 4,
   "id": "707c3760",
   "metadata": {},
   "outputs": [],
   "source": [
    "data = []\n",
    "\n",
    "for video in videos:\n",
    "    \n",
    "    try:\n",
    "        video_link = 'https://www.youtube.com/' + video.find('a').get('href')\n",
    "    except:\n",
    "        video_link = np.nan\n",
    "    \n",
    "    try:\n",
    "        thumbnail_link = video.find('img').get('src').split('?')[0]\n",
    "    except:\n",
    "        thumbnail_link = np.nan\n",
    "        \n",
    "    try:\n",
    "        duration = video.find('span').get('aria-label')\n",
    "    except:\n",
    "        duration = np.nan\n",
    "    \n",
    "    data.append([video_link, thumbnail_link, duration])"
   ]
  },
  {
   "cell_type": "code",
   "execution_count": 5,
   "id": "395ac4d5",
   "metadata": {},
   "outputs": [
    {
     "data": {
      "text/plain": [
       "3923"
      ]
     },
     "execution_count": 5,
     "metadata": {},
     "output_type": "execute_result"
    }
   ],
   "source": [
    "len(data)"
   ]
  },
  {
   "cell_type": "code",
   "execution_count": 6,
   "id": "c7f3d711",
   "metadata": {},
   "outputs": [],
   "source": [
    "df =  pd.DataFrame(data, columns = ['video_link' , 'thumbnail_link', 'duration'])"
   ]
  },
  {
   "cell_type": "code",
   "execution_count": 7,
   "id": "5d5656e1",
   "metadata": {},
   "outputs": [
    {
     "data": {
      "text/plain": [
       "video_link          0\n",
       "thumbnail_link    655\n",
       "duration            0\n",
       "dtype: int64"
      ]
     },
     "execution_count": 7,
     "metadata": {},
     "output_type": "execute_result"
    }
   ],
   "source": [
    "df.isnull().sum()"
   ]
  },
  {
   "cell_type": "code",
   "execution_count": 8,
   "id": "452e60a8",
   "metadata": {},
   "outputs": [
    {
     "data": {
      "text/html": [
       "<div>\n",
       "<style scoped>\n",
       "    .dataframe tbody tr th:only-of-type {\n",
       "        vertical-align: middle;\n",
       "    }\n",
       "\n",
       "    .dataframe tbody tr th {\n",
       "        vertical-align: top;\n",
       "    }\n",
       "\n",
       "    .dataframe thead th {\n",
       "        text-align: right;\n",
       "    }\n",
       "</style>\n",
       "<table border=\"1\" class=\"dataframe\">\n",
       "  <thead>\n",
       "    <tr style=\"text-align: right;\">\n",
       "      <th></th>\n",
       "      <th>video_link</th>\n",
       "      <th>thumbnail_link</th>\n",
       "      <th>duration</th>\n",
       "    </tr>\n",
       "  </thead>\n",
       "  <tbody>\n",
       "    <tr>\n",
       "      <th>0</th>\n",
       "      <td>https://www.youtube.com//watch?v=B5smctuV7-Q</td>\n",
       "      <td>https://i.ytimg.com/vi/B5smctuV7-Q/hqdefault.jpg</td>\n",
       "      <td>14 minutes, 48 seconds</td>\n",
       "    </tr>\n",
       "    <tr>\n",
       "      <th>1</th>\n",
       "      <td>https://www.youtube.com//watch?v=FrqBWQ-mVEc</td>\n",
       "      <td>https://i.ytimg.com/vi/FrqBWQ-mVEc/hqdefault.jpg</td>\n",
       "      <td>9 minutes, 53 seconds</td>\n",
       "    </tr>\n",
       "    <tr>\n",
       "      <th>2</th>\n",
       "      <td>https://www.youtube.com//watch?v=iIne-UO7wUo</td>\n",
       "      <td>https://i.ytimg.com/vi/iIne-UO7wUo/hqdefault.jpg</td>\n",
       "      <td>9 minutes, 18 seconds</td>\n",
       "    </tr>\n",
       "    <tr>\n",
       "      <th>3</th>\n",
       "      <td>https://www.youtube.com//watch?v=5T2VRY0LECc</td>\n",
       "      <td>https://i.ytimg.com/vi/5T2VRY0LECc/hqdefault.jpg</td>\n",
       "      <td>6 minutes, 56 seconds</td>\n",
       "    </tr>\n",
       "    <tr>\n",
       "      <th>4</th>\n",
       "      <td>https://www.youtube.com//watch?v=YRvf00NooN8</td>\n",
       "      <td>https://i.ytimg.com/vi/YRvf00NooN8/hqdefault.jpg</td>\n",
       "      <td>1 hour, 6 minutes, 25 seconds</td>\n",
       "    </tr>\n",
       "    <tr>\n",
       "      <th>...</th>\n",
       "      <td>...</td>\n",
       "      <td>...</td>\n",
       "      <td>...</td>\n",
       "    </tr>\n",
       "    <tr>\n",
       "      <th>3918</th>\n",
       "      <td>https://www.youtube.com//watch?v=iG9CE55wbtY</td>\n",
       "      <td>https://i.ytimg.com/vi/iG9CE55wbtY/hqdefault.jpg</td>\n",
       "      <td>20 minutes, 4 seconds</td>\n",
       "    </tr>\n",
       "    <tr>\n",
       "      <th>3919</th>\n",
       "      <td>https://www.youtube.com//watch?v=gQ-cZRmHfs4</td>\n",
       "      <td>https://i.ytimg.com/vi/gQ-cZRmHfs4/hqdefault.jpg</td>\n",
       "      <td>19 minutes, 16 seconds</td>\n",
       "    </tr>\n",
       "    <tr>\n",
       "      <th>3920</th>\n",
       "      <td>https://www.youtube.com//watch?v=RTIY66IPjdY</td>\n",
       "      <td>https://i.ytimg.com/vi/RTIY66IPjdY/hqdefault.jpg</td>\n",
       "      <td>3 minutes, 35 seconds</td>\n",
       "    </tr>\n",
       "    <tr>\n",
       "      <th>3921</th>\n",
       "      <td>https://www.youtube.com//watch?v=Y6bbMQXQ180</td>\n",
       "      <td>https://i.ytimg.com/vi/Y6bbMQXQ180/hqdefault.jpg</td>\n",
       "      <td>3 minutes, 47 seconds</td>\n",
       "    </tr>\n",
       "    <tr>\n",
       "      <th>3922</th>\n",
       "      <td>https://www.youtube.com//watch?v=gu_PQBmk-6c</td>\n",
       "      <td>https://i.ytimg.com/vi/gu_PQBmk-6c/hqdefault.jpg</td>\n",
       "      <td>4 minutes, 17 seconds</td>\n",
       "    </tr>\n",
       "  </tbody>\n",
       "</table>\n",
       "<p>3923 rows × 3 columns</p>\n",
       "</div>"
      ],
      "text/plain": [
       "                                        video_link  \\\n",
       "0     https://www.youtube.com//watch?v=B5smctuV7-Q   \n",
       "1     https://www.youtube.com//watch?v=FrqBWQ-mVEc   \n",
       "2     https://www.youtube.com//watch?v=iIne-UO7wUo   \n",
       "3     https://www.youtube.com//watch?v=5T2VRY0LECc   \n",
       "4     https://www.youtube.com//watch?v=YRvf00NooN8   \n",
       "...                                            ...   \n",
       "3918  https://www.youtube.com//watch?v=iG9CE55wbtY   \n",
       "3919  https://www.youtube.com//watch?v=gQ-cZRmHfs4   \n",
       "3920  https://www.youtube.com//watch?v=RTIY66IPjdY   \n",
       "3921  https://www.youtube.com//watch?v=Y6bbMQXQ180   \n",
       "3922  https://www.youtube.com//watch?v=gu_PQBmk-6c   \n",
       "\n",
       "                                        thumbnail_link  \\\n",
       "0     https://i.ytimg.com/vi/B5smctuV7-Q/hqdefault.jpg   \n",
       "1     https://i.ytimg.com/vi/FrqBWQ-mVEc/hqdefault.jpg   \n",
       "2     https://i.ytimg.com/vi/iIne-UO7wUo/hqdefault.jpg   \n",
       "3     https://i.ytimg.com/vi/5T2VRY0LECc/hqdefault.jpg   \n",
       "4     https://i.ytimg.com/vi/YRvf00NooN8/hqdefault.jpg   \n",
       "...                                                ...   \n",
       "3918  https://i.ytimg.com/vi/iG9CE55wbtY/hqdefault.jpg   \n",
       "3919  https://i.ytimg.com/vi/gQ-cZRmHfs4/hqdefault.jpg   \n",
       "3920  https://i.ytimg.com/vi/RTIY66IPjdY/hqdefault.jpg   \n",
       "3921  https://i.ytimg.com/vi/Y6bbMQXQ180/hqdefault.jpg   \n",
       "3922  https://i.ytimg.com/vi/gu_PQBmk-6c/hqdefault.jpg   \n",
       "\n",
       "                           duration  \n",
       "0            14 minutes, 48 seconds  \n",
       "1             9 minutes, 53 seconds  \n",
       "2             9 minutes, 18 seconds  \n",
       "3             6 minutes, 56 seconds  \n",
       "4     1 hour, 6 minutes, 25 seconds  \n",
       "...                             ...  \n",
       "3918          20 minutes, 4 seconds  \n",
       "3919         19 minutes, 16 seconds  \n",
       "3920          3 minutes, 35 seconds  \n",
       "3921          3 minutes, 47 seconds  \n",
       "3922          4 minutes, 17 seconds  \n",
       "\n",
       "[3923 rows x 3 columns]"
      ]
     },
     "execution_count": 8,
     "metadata": {},
     "output_type": "execute_result"
    }
   ],
   "source": [
    "df"
   ]
  },
  {
   "cell_type": "code",
   "execution_count": 9,
   "id": "6f499cab",
   "metadata": {},
   "outputs": [],
   "source": [
    "df.to_csv('data.csv',index = False)"
   ]
  },
  {
   "cell_type": "code",
   "execution_count": null,
   "id": "dc94336a",
   "metadata": {},
   "outputs": [],
   "source": []
  }
 ],
 "metadata": {
  "kernelspec": {
   "display_name": "Python 3 (ipykernel)",
   "language": "python",
   "name": "python3"
  },
  "language_info": {
   "codemirror_mode": {
    "name": "ipython",
    "version": 3
   },
   "file_extension": ".py",
   "mimetype": "text/x-python",
   "name": "python",
   "nbconvert_exporter": "python",
   "pygments_lexer": "ipython3",
   "version": "3.9.7"
  }
 },
 "nbformat": 4,
 "nbformat_minor": 5
}
