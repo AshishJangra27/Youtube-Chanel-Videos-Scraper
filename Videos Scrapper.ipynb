{
 "cells": [
  {
   "cell_type": "code",
   "execution_count": 1,
   "id": "1b64f2e3",
   "metadata": {},
   "outputs": [],
   "source": [
    "import time\n",
    "import requests\n",
    "import numpy as np\n",
    "import pandas as pd\n",
    "from tqdm import tqdm\n",
    "from bs4 import BeautifulSoup\n",
    "from selenium import webdriver\n",
    "\n",
    "driver = webdriver.Chrome()"
   ]
  },
  {
   "cell_type": "code",
   "execution_count": 2,
   "id": "a4c6668a",
   "metadata": {},
   "outputs": [
    {
     "name": "stderr",
     "output_type": "stream",
     "text": [
      "100%|█████████████████████████████████████| 3923/3923 [8:26:17<00:00,  7.74s/it]\n"
     ]
    }
   ],
   "source": [
    "df = pd.read_csv('data.csv')\n",
    "\n",
    "data = []\n",
    "\n",
    "for i in tqdm(df['video_link']):\n",
    "    \n",
    "    driver.get(i)\n",
    "    driver.execute_script(\"window.scrollTo(0, 200)\")\n",
    "    time.sleep(2)\n",
    "    driver.execute_script(\"window.scrollTo(0, 200)\")\n",
    "    time.sleep(1)\n",
    "    driver.execute_script(\"window.scrollTo(0, 200)\")\n",
    "    time.sleep(1)\n",
    "\n",
    "    soup = BeautifulSoup(driver.page_source, 'html.parser')\n",
    "    \n",
    "    try:\n",
    "        title = soup.find_all('yt-formatted-string', class_ = 'style-scope ytd-video-primary-info-renderer')[0].text\n",
    "    except:\n",
    "        title = np.nan\n",
    "    \n",
    "    try:\n",
    "        date  = soup.find_all('yt-formatted-string', class_ = 'style-scope ytd-video-primary-info-renderer')[1].text\n",
    "    except:\n",
    "        date = np.nan\n",
    "        \n",
    "    try:\n",
    "        views = soup.find('span', class_ = 'view-count style-scope ytd-video-view-count-renderer').text.split(' ')[0]\n",
    "    except:\n",
    "        views = np.nan\n",
    "        \n",
    "    try:\n",
    "        likes = soup.find('yt-formatted-string', class_ = 'style-scope ytd-toggle-button-renderer style-text').text\n",
    "    except:\n",
    "        likes = np.nan\n",
    "        \n",
    "    try:\n",
    "        description = soup.find('yt-formatted-string', class_ = 'content style-scope ytd-video-secondary-info-renderer').text\n",
    "    except:\n",
    "        description = np.nan\n",
    "        \n",
    "    try:\n",
    "        comment = soup.find('ytd-comments-header-renderer').find('h2').find('span').text\n",
    "    except:\n",
    "        comment = np.nan\n",
    "    \n",
    "    data.append([title, views, likes, comment, date, description])"
   ]
  },
  {
   "cell_type": "code",
   "execution_count": 3,
   "id": "74467d95",
   "metadata": {
    "scrolled": true
   },
   "outputs": [
    {
     "data": {
      "text/plain": [
       "3923"
      ]
     },
     "execution_count": 3,
     "metadata": {},
     "output_type": "execute_result"
    }
   ],
   "source": [
    "len(data)"
   ]
  },
  {
   "cell_type": "code",
   "execution_count": 4,
   "id": "2a68a295",
   "metadata": {},
   "outputs": [],
   "source": [
    "data = np.array(data)"
   ]
  },
  {
   "cell_type": "code",
   "execution_count": 5,
   "id": "b7e76cdf",
   "metadata": {
    "scrolled": true
   },
   "outputs": [],
   "source": [
    "title = data[:,:1]\n",
    "views = data[:,1:2]\n",
    "likes = data[:,2:3]\n",
    "comments = data[:,3:4]\n",
    "date = data[:,4:5]\n",
    "description = data[:,5:6]"
   ]
  },
  {
   "cell_type": "code",
   "execution_count": 6,
   "id": "8628a2a7",
   "metadata": {},
   "outputs": [],
   "source": [
    "df['title'] = title\n",
    "df['views'] = views\n",
    "df['likes'] = likes\n",
    "df['comments'] = comments\n",
    "df['date'] = date\n",
    "df['description'] = description"
   ]
  },
  {
   "cell_type": "code",
   "execution_count": 7,
   "id": "372ea787",
   "metadata": {},
   "outputs": [
    {
     "data": {
      "text/plain": [
       "video_link          0\n",
       "thumbnail_link    655\n",
       "duration            0\n",
       "title               0\n",
       "views               0\n",
       "likes               0\n",
       "comments            0\n",
       "date                0\n",
       "description         0\n",
       "dtype: int64"
      ]
     },
     "execution_count": 7,
     "metadata": {},
     "output_type": "execute_result"
    }
   ],
   "source": [
    "df.isnull().sum()"
   ]
  },
  {
   "cell_type": "code",
   "execution_count": 8,
   "id": "74a456a3",
   "metadata": {},
   "outputs": [],
   "source": [
    "df.to_csv('final.csv',index = False)"
   ]
  },
  {
   "cell_type": "code",
   "execution_count": null,
   "id": "0bbd3bb4",
   "metadata": {},
   "outputs": [],
   "source": []
  }
 ],
 "metadata": {
  "kernelspec": {
   "display_name": "Python 3 (ipykernel)",
   "language": "python",
   "name": "python3"
  },
  "language_info": {
   "codemirror_mode": {
    "name": "ipython",
    "version": 3
   },
   "file_extension": ".py",
   "mimetype": "text/x-python",
   "name": "python",
   "nbconvert_exporter": "python",
   "pygments_lexer": "ipython3",
   "version": "3.9.7"
  }
 },
 "nbformat": 4,
 "nbformat_minor": 5
}
